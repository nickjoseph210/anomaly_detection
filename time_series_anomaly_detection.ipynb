{
 "cells": [
  {
   "cell_type": "markdown",
   "metadata": {},
   "source": [
    "# Anomalies in Time Series Data\n",
    "\n",
    "# *From the curriculum*"
   ]
  },
  {
   "cell_type": "markdown",
   "metadata": {},
   "source": [
    "## Pointers: \n",
    "\n",
    "- Target variable is continuous\n",
    "\n",
    "- We're trying to detect anomalies by seeing data over a timeframe and noticing any spikes in distributions"
   ]
  },
  {
   "cell_type": "code",
   "execution_count": 1,
   "metadata": {},
   "outputs": [],
   "source": [
    "import numpy as np\n",
    "import pandas as pd\n",
    "import math\n",
    "from sklearn import metrics\n",
    "\n",
    "from scipy.stats import entropy\n",
    "\n",
    "import warnings\n",
    "warnings.filterwarnings(\"ignore\")\n",
    "import matplotlib.pyplot as plt\n",
    "import matplotlib.dates as mdates #to format dates on our plots\n",
    "%matplotlib inline\n",
    "import seaborn as sns"
   ]
  },
  {
   "cell_type": "code",
   "execution_count": 2,
   "metadata": {},
   "outputs": [],
   "source": [
    "colnames=['ip', 'timestamp', 'request_method', 'status', 'size',\n",
    "          'destination', 'request_agent']\n",
    "df_orig = pd.read_csv('https://python.zach.lol/access.log',          \n",
    "                 engine='python',\n",
    "                 header=None,\n",
    "                 index_col=False,\n",
    "                 names=colnames,\n",
    "                 sep=r'\\s(?=(?:[^\"]*\"[^\"]*\")*[^\"]*$)(?![^\\[]*\\])',\n",
    "                 na_values='\"-\"',\n",
    "                 usecols=[0, 3, 4, 5, 6, 7, 8]\n",
    ")"
   ]
  },
  {
   "cell_type": "code",
   "execution_count": 3,
   "metadata": {},
   "outputs": [
    {
     "data": {
      "text/html": [
       "<div>\n",
       "<style scoped>\n",
       "    .dataframe tbody tr th:only-of-type {\n",
       "        vertical-align: middle;\n",
       "    }\n",
       "\n",
       "    .dataframe tbody tr th {\n",
       "        vertical-align: top;\n",
       "    }\n",
       "\n",
       "    .dataframe thead th {\n",
       "        text-align: right;\n",
       "    }\n",
       "</style>\n",
       "<table border=\"1\" class=\"dataframe\">\n",
       "  <thead>\n",
       "    <tr style=\"text-align: right;\">\n",
       "      <th></th>\n",
       "      <th>ip</th>\n",
       "      <th>timestamp</th>\n",
       "      <th>request_method</th>\n",
       "      <th>status</th>\n",
       "      <th>size</th>\n",
       "      <th>destination</th>\n",
       "      <th>request_agent</th>\n",
       "    </tr>\n",
       "  </thead>\n",
       "  <tbody>\n",
       "    <tr>\n",
       "      <th>0</th>\n",
       "      <td>97.105.19.58</td>\n",
       "      <td>[16/Apr/2019:19:34:42 +0000]</td>\n",
       "      <td>\"GET /api/v1/sales?page=81 HTTP/1.1\"</td>\n",
       "      <td>200</td>\n",
       "      <td>512495</td>\n",
       "      <td>NaN</td>\n",
       "      <td>\"python-requests/2.21.0\"</td>\n",
       "    </tr>\n",
       "    <tr>\n",
       "      <th>1</th>\n",
       "      <td>97.105.19.58</td>\n",
       "      <td>[16/Apr/2019:19:34:42 +0000]</td>\n",
       "      <td>\"GET /api/v1/items HTTP/1.1\"</td>\n",
       "      <td>200</td>\n",
       "      <td>3561</td>\n",
       "      <td>NaN</td>\n",
       "      <td>\"python-requests/2.21.0\"</td>\n",
       "    </tr>\n",
       "    <tr>\n",
       "      <th>2</th>\n",
       "      <td>97.105.19.58</td>\n",
       "      <td>[16/Apr/2019:19:34:44 +0000]</td>\n",
       "      <td>\"GET /api/v1/sales?page=82 HTTP/1.1\"</td>\n",
       "      <td>200</td>\n",
       "      <td>510103</td>\n",
       "      <td>NaN</td>\n",
       "      <td>\"python-requests/2.21.0\"</td>\n",
       "    </tr>\n",
       "    <tr>\n",
       "      <th>3</th>\n",
       "      <td>97.105.19.58</td>\n",
       "      <td>[16/Apr/2019:19:34:46 +0000]</td>\n",
       "      <td>\"GET /api/v1/sales?page=83 HTTP/1.1\"</td>\n",
       "      <td>200</td>\n",
       "      <td>510003</td>\n",
       "      <td>NaN</td>\n",
       "      <td>\"python-requests/2.21.0\"</td>\n",
       "    </tr>\n",
       "    <tr>\n",
       "      <th>4</th>\n",
       "      <td>97.105.19.58</td>\n",
       "      <td>[16/Apr/2019:19:34:48 +0000]</td>\n",
       "      <td>\"GET /api/v1/sales?page=84 HTTP/1.1\"</td>\n",
       "      <td>200</td>\n",
       "      <td>511963</td>\n",
       "      <td>NaN</td>\n",
       "      <td>\"python-requests/2.21.0\"</td>\n",
       "    </tr>\n",
       "    <tr>\n",
       "      <th>...</th>\n",
       "      <td>...</td>\n",
       "      <td>...</td>\n",
       "      <td>...</td>\n",
       "      <td>...</td>\n",
       "      <td>...</td>\n",
       "      <td>...</td>\n",
       "      <td>...</td>\n",
       "    </tr>\n",
       "    <tr>\n",
       "      <th>13969</th>\n",
       "      <td>97.105.19.58</td>\n",
       "      <td>[17/Apr/2019:12:55:12 +0000]</td>\n",
       "      <td>\"GET /api/v1/sales?page=62 HTTP/1.1\"</td>\n",
       "      <td>200</td>\n",
       "      <td>511544</td>\n",
       "      <td>NaN</td>\n",
       "      <td>\"python-requests/2.21.0\"</td>\n",
       "    </tr>\n",
       "    <tr>\n",
       "      <th>13970</th>\n",
       "      <td>97.105.19.58</td>\n",
       "      <td>[17/Apr/2019:12:55:12 +0000]</td>\n",
       "      <td>\"GET /api/v1/sales?page=65 HTTP/1.1\"</td>\n",
       "      <td>200</td>\n",
       "      <td>511201</td>\n",
       "      <td>NaN</td>\n",
       "      <td>\"python-requests/2.21.0\"</td>\n",
       "    </tr>\n",
       "    <tr>\n",
       "      <th>13971</th>\n",
       "      <td>97.105.19.58</td>\n",
       "      <td>[17/Apr/2019:12:55:13 +0000]</td>\n",
       "      <td>\"GET /api/v1/sales?page=73 HTTP/1.1\"</td>\n",
       "      <td>200</td>\n",
       "      <td>511781</td>\n",
       "      <td>NaN</td>\n",
       "      <td>\"python-requests/2.21.0\"</td>\n",
       "    </tr>\n",
       "    <tr>\n",
       "      <th>13972</th>\n",
       "      <td>97.105.19.58</td>\n",
       "      <td>[17/Apr/2019:12:55:13 +0000]</td>\n",
       "      <td>\"GET /api/v1/sales?page=69 HTTP/1.1\"</td>\n",
       "      <td>200</td>\n",
       "      <td>510136</td>\n",
       "      <td>NaN</td>\n",
       "      <td>\"python-requests/2.21.0\"</td>\n",
       "    </tr>\n",
       "    <tr>\n",
       "      <th>13973</th>\n",
       "      <td>97.105.19.58</td>\n",
       "      <td>[17/Apr/2019:12:55:14 +0000]</td>\n",
       "      <td>\"GET /api/v1/sales?page=71 HTTP/1.1\"</td>\n",
       "      <td>200</td>\n",
       "      <td>510166</td>\n",
       "      <td>NaN</td>\n",
       "      <td>\"python-requests/2.21.0\"</td>\n",
       "    </tr>\n",
       "  </tbody>\n",
       "</table>\n",
       "<p>13974 rows × 7 columns</p>\n",
       "</div>"
      ],
      "text/plain": [
       "                 ip                     timestamp  \\\n",
       "0      97.105.19.58  [16/Apr/2019:19:34:42 +0000]   \n",
       "1      97.105.19.58  [16/Apr/2019:19:34:42 +0000]   \n",
       "2      97.105.19.58  [16/Apr/2019:19:34:44 +0000]   \n",
       "3      97.105.19.58  [16/Apr/2019:19:34:46 +0000]   \n",
       "4      97.105.19.58  [16/Apr/2019:19:34:48 +0000]   \n",
       "...             ...                           ...   \n",
       "13969  97.105.19.58  [17/Apr/2019:12:55:12 +0000]   \n",
       "13970  97.105.19.58  [17/Apr/2019:12:55:12 +0000]   \n",
       "13971  97.105.19.58  [17/Apr/2019:12:55:13 +0000]   \n",
       "13972  97.105.19.58  [17/Apr/2019:12:55:13 +0000]   \n",
       "13973  97.105.19.58  [17/Apr/2019:12:55:14 +0000]   \n",
       "\n",
       "                             request_method  status    size destination  \\\n",
       "0      \"GET /api/v1/sales?page=81 HTTP/1.1\"     200  512495         NaN   \n",
       "1              \"GET /api/v1/items HTTP/1.1\"     200    3561         NaN   \n",
       "2      \"GET /api/v1/sales?page=82 HTTP/1.1\"     200  510103         NaN   \n",
       "3      \"GET /api/v1/sales?page=83 HTTP/1.1\"     200  510003         NaN   \n",
       "4      \"GET /api/v1/sales?page=84 HTTP/1.1\"     200  511963         NaN   \n",
       "...                                     ...     ...     ...         ...   \n",
       "13969  \"GET /api/v1/sales?page=62 HTTP/1.1\"     200  511544         NaN   \n",
       "13970  \"GET /api/v1/sales?page=65 HTTP/1.1\"     200  511201         NaN   \n",
       "13971  \"GET /api/v1/sales?page=73 HTTP/1.1\"     200  511781         NaN   \n",
       "13972  \"GET /api/v1/sales?page=69 HTTP/1.1\"     200  510136         NaN   \n",
       "13973  \"GET /api/v1/sales?page=71 HTTP/1.1\"     200  510166         NaN   \n",
       "\n",
       "                  request_agent  \n",
       "0      \"python-requests/2.21.0\"  \n",
       "1      \"python-requests/2.21.0\"  \n",
       "2      \"python-requests/2.21.0\"  \n",
       "3      \"python-requests/2.21.0\"  \n",
       "4      \"python-requests/2.21.0\"  \n",
       "...                         ...  \n",
       "13969  \"python-requests/2.21.0\"  \n",
       "13970  \"python-requests/2.21.0\"  \n",
       "13971  \"python-requests/2.21.0\"  \n",
       "13972  \"python-requests/2.21.0\"  \n",
       "13973  \"python-requests/2.21.0\"  \n",
       "\n",
       "[13974 rows x 7 columns]"
      ]
     },
     "execution_count": 3,
     "metadata": {},
     "output_type": "execute_result"
    }
   ],
   "source": [
    "df_orig"
   ]
  },
  {
   "cell_type": "code",
   "execution_count": 4,
   "metadata": {},
   "outputs": [
    {
     "name": "stdout",
     "output_type": "stream",
     "text": [
      "<class 'pandas.core.frame.DataFrame'>\n",
      "RangeIndex: 13974 entries, 0 to 13973\n",
      "Data columns (total 7 columns):\n",
      "ip                13974 non-null object\n",
      "timestamp         13974 non-null object\n",
      "request_method    13974 non-null object\n",
      "status            13974 non-null int64\n",
      "size              13974 non-null int64\n",
      "destination       25 non-null object\n",
      "request_agent     13974 non-null object\n",
      "dtypes: int64(2), object(5)\n",
      "memory usage: 764.3+ KB\n"
     ]
    }
   ],
   "source": [
    "df_orig.info()"
   ]
  },
  {
   "cell_type": "markdown",
   "metadata": {},
   "source": [
    "**Below (vv) are fabricated anomalies for our detection.**"
   ]
  },
  {
   "cell_type": "code",
   "execution_count": 5,
   "metadata": {},
   "outputs": [],
   "source": [
    "new = pd.DataFrame([[\"95.31.18.119\", \"[21/Apr/2019:10:02:41+0000]\", \n",
    "                     \"GET /api/v1/items/HTTP/1.1\", 200, 1153005, np.nan, \n",
    "                     \"python-requests/2.21.0\"],\n",
    "                    [\"95.31.16.121\", \"[17/Apr/2019:19:36:41+0000]\", \n",
    "                     \"GET /api/v1/sales?page=79/HTTP/1.1\", 301, 1005, np.nan, \n",
    "                     \"python-requests/2.21.0\"],\n",
    "                    [\"97.105.15.120\", \"[18/Apr/2019:19:42:41+0000]\", \n",
    "                     \"GET /api/v1/sales?page=79/HTTP/1.1\", 301, 2560, np.nan, \n",
    "                     \"python-requests/2.21.0\"],\n",
    "                    [\"97.105.19.58\", \"[19/Apr/2019:19:42:41+0000]\", \n",
    "                     \"GET /api/v1/sales?page=79/HTTP/1.1\", 200, 2056327, np.nan, \n",
    "                     \"python-requests/2.21.0\"]], columns=colnames)\n",
    "\n",
    "df = df_orig.append(new)"
   ]
  },
  {
   "cell_type": "code",
   "execution_count": 6,
   "metadata": {},
   "outputs": [
    {
     "data": {
      "text/html": [
       "<div>\n",
       "<style scoped>\n",
       "    .dataframe tbody tr th:only-of-type {\n",
       "        vertical-align: middle;\n",
       "    }\n",
       "\n",
       "    .dataframe tbody tr th {\n",
       "        vertical-align: top;\n",
       "    }\n",
       "\n",
       "    .dataframe thead th {\n",
       "        text-align: right;\n",
       "    }\n",
       "</style>\n",
       "<table border=\"1\" class=\"dataframe\">\n",
       "  <thead>\n",
       "    <tr style=\"text-align: right;\">\n",
       "      <th></th>\n",
       "      <th>ip</th>\n",
       "      <th>timestamp</th>\n",
       "      <th>request_method</th>\n",
       "      <th>status</th>\n",
       "      <th>size</th>\n",
       "      <th>destination</th>\n",
       "      <th>request_agent</th>\n",
       "    </tr>\n",
       "  </thead>\n",
       "  <tbody>\n",
       "    <tr>\n",
       "      <th>0</th>\n",
       "      <td>97.105.19.58</td>\n",
       "      <td>[16/Apr/2019:19:34:42 +0000]</td>\n",
       "      <td>\"GET /api/v1/sales?page=81 HTTP/1.1\"</td>\n",
       "      <td>200</td>\n",
       "      <td>512495</td>\n",
       "      <td>NaN</td>\n",
       "      <td>\"python-requests/2.21.0\"</td>\n",
       "    </tr>\n",
       "    <tr>\n",
       "      <th>1</th>\n",
       "      <td>97.105.19.58</td>\n",
       "      <td>[16/Apr/2019:19:34:42 +0000]</td>\n",
       "      <td>\"GET /api/v1/items HTTP/1.1\"</td>\n",
       "      <td>200</td>\n",
       "      <td>3561</td>\n",
       "      <td>NaN</td>\n",
       "      <td>\"python-requests/2.21.0\"</td>\n",
       "    </tr>\n",
       "    <tr>\n",
       "      <th>2</th>\n",
       "      <td>97.105.19.58</td>\n",
       "      <td>[16/Apr/2019:19:34:44 +0000]</td>\n",
       "      <td>\"GET /api/v1/sales?page=82 HTTP/1.1\"</td>\n",
       "      <td>200</td>\n",
       "      <td>510103</td>\n",
       "      <td>NaN</td>\n",
       "      <td>\"python-requests/2.21.0\"</td>\n",
       "    </tr>\n",
       "    <tr>\n",
       "      <th>3</th>\n",
       "      <td>97.105.19.58</td>\n",
       "      <td>[16/Apr/2019:19:34:46 +0000]</td>\n",
       "      <td>\"GET /api/v1/sales?page=83 HTTP/1.1\"</td>\n",
       "      <td>200</td>\n",
       "      <td>510003</td>\n",
       "      <td>NaN</td>\n",
       "      <td>\"python-requests/2.21.0\"</td>\n",
       "    </tr>\n",
       "    <tr>\n",
       "      <th>4</th>\n",
       "      <td>97.105.19.58</td>\n",
       "      <td>[16/Apr/2019:19:34:48 +0000]</td>\n",
       "      <td>\"GET /api/v1/sales?page=84 HTTP/1.1\"</td>\n",
       "      <td>200</td>\n",
       "      <td>511963</td>\n",
       "      <td>NaN</td>\n",
       "      <td>\"python-requests/2.21.0\"</td>\n",
       "    </tr>\n",
       "    <tr>\n",
       "      <th>...</th>\n",
       "      <td>...</td>\n",
       "      <td>...</td>\n",
       "      <td>...</td>\n",
       "      <td>...</td>\n",
       "      <td>...</td>\n",
       "      <td>...</td>\n",
       "      <td>...</td>\n",
       "    </tr>\n",
       "    <tr>\n",
       "      <th>13973</th>\n",
       "      <td>97.105.19.58</td>\n",
       "      <td>[17/Apr/2019:12:55:14 +0000]</td>\n",
       "      <td>\"GET /api/v1/sales?page=71 HTTP/1.1\"</td>\n",
       "      <td>200</td>\n",
       "      <td>510166</td>\n",
       "      <td>NaN</td>\n",
       "      <td>\"python-requests/2.21.0\"</td>\n",
       "    </tr>\n",
       "    <tr>\n",
       "      <th>0</th>\n",
       "      <td>95.31.18.119</td>\n",
       "      <td>[21/Apr/2019:10:02:41+0000]</td>\n",
       "      <td>GET /api/v1/items/HTTP/1.1</td>\n",
       "      <td>200</td>\n",
       "      <td>1153005</td>\n",
       "      <td>NaN</td>\n",
       "      <td>python-requests/2.21.0</td>\n",
       "    </tr>\n",
       "    <tr>\n",
       "      <th>1</th>\n",
       "      <td>95.31.16.121</td>\n",
       "      <td>[17/Apr/2019:19:36:41+0000]</td>\n",
       "      <td>GET /api/v1/sales?page=79/HTTP/1.1</td>\n",
       "      <td>301</td>\n",
       "      <td>1005</td>\n",
       "      <td>NaN</td>\n",
       "      <td>python-requests/2.21.0</td>\n",
       "    </tr>\n",
       "    <tr>\n",
       "      <th>2</th>\n",
       "      <td>97.105.15.120</td>\n",
       "      <td>[18/Apr/2019:19:42:41+0000]</td>\n",
       "      <td>GET /api/v1/sales?page=79/HTTP/1.1</td>\n",
       "      <td>301</td>\n",
       "      <td>2560</td>\n",
       "      <td>NaN</td>\n",
       "      <td>python-requests/2.21.0</td>\n",
       "    </tr>\n",
       "    <tr>\n",
       "      <th>3</th>\n",
       "      <td>97.105.19.58</td>\n",
       "      <td>[19/Apr/2019:19:42:41+0000]</td>\n",
       "      <td>GET /api/v1/sales?page=79/HTTP/1.1</td>\n",
       "      <td>200</td>\n",
       "      <td>2056327</td>\n",
       "      <td>NaN</td>\n",
       "      <td>python-requests/2.21.0</td>\n",
       "    </tr>\n",
       "  </tbody>\n",
       "</table>\n",
       "<p>13978 rows × 7 columns</p>\n",
       "</div>"
      ],
      "text/plain": [
       "                  ip                     timestamp  \\\n",
       "0       97.105.19.58  [16/Apr/2019:19:34:42 +0000]   \n",
       "1       97.105.19.58  [16/Apr/2019:19:34:42 +0000]   \n",
       "2       97.105.19.58  [16/Apr/2019:19:34:44 +0000]   \n",
       "3       97.105.19.58  [16/Apr/2019:19:34:46 +0000]   \n",
       "4       97.105.19.58  [16/Apr/2019:19:34:48 +0000]   \n",
       "...              ...                           ...   \n",
       "13973   97.105.19.58  [17/Apr/2019:12:55:14 +0000]   \n",
       "0       95.31.18.119   [21/Apr/2019:10:02:41+0000]   \n",
       "1       95.31.16.121   [17/Apr/2019:19:36:41+0000]   \n",
       "2      97.105.15.120   [18/Apr/2019:19:42:41+0000]   \n",
       "3       97.105.19.58   [19/Apr/2019:19:42:41+0000]   \n",
       "\n",
       "                             request_method  status     size destination  \\\n",
       "0      \"GET /api/v1/sales?page=81 HTTP/1.1\"     200   512495         NaN   \n",
       "1              \"GET /api/v1/items HTTP/1.1\"     200     3561         NaN   \n",
       "2      \"GET /api/v1/sales?page=82 HTTP/1.1\"     200   510103         NaN   \n",
       "3      \"GET /api/v1/sales?page=83 HTTP/1.1\"     200   510003         NaN   \n",
       "4      \"GET /api/v1/sales?page=84 HTTP/1.1\"     200   511963         NaN   \n",
       "...                                     ...     ...      ...         ...   \n",
       "13973  \"GET /api/v1/sales?page=71 HTTP/1.1\"     200   510166         NaN   \n",
       "0                GET /api/v1/items/HTTP/1.1     200  1153005         NaN   \n",
       "1        GET /api/v1/sales?page=79/HTTP/1.1     301     1005         NaN   \n",
       "2        GET /api/v1/sales?page=79/HTTP/1.1     301     2560         NaN   \n",
       "3        GET /api/v1/sales?page=79/HTTP/1.1     200  2056327         NaN   \n",
       "\n",
       "                  request_agent  \n",
       "0      \"python-requests/2.21.0\"  \n",
       "1      \"python-requests/2.21.0\"  \n",
       "2      \"python-requests/2.21.0\"  \n",
       "3      \"python-requests/2.21.0\"  \n",
       "4      \"python-requests/2.21.0\"  \n",
       "...                         ...  \n",
       "13973  \"python-requests/2.21.0\"  \n",
       "0        python-requests/2.21.0  \n",
       "1        python-requests/2.21.0  \n",
       "2        python-requests/2.21.0  \n",
       "3        python-requests/2.21.0  \n",
       "\n",
       "[13978 rows x 7 columns]"
      ]
     },
     "execution_count": 6,
     "metadata": {},
     "output_type": "execute_result"
    }
   ],
   "source": [
    "df"
   ]
  },
  {
   "cell_type": "code",
   "execution_count": 7,
   "metadata": {},
   "outputs": [
    {
     "name": "stdout",
     "output_type": "stream",
     "text": [
      "<class 'pandas.core.frame.DataFrame'>\n",
      "Int64Index: 13978 entries, 0 to 3\n",
      "Data columns (total 7 columns):\n",
      "ip                13978 non-null object\n",
      "timestamp         13978 non-null object\n",
      "request_method    13978 non-null object\n",
      "status            13978 non-null int64\n",
      "size              13978 non-null int64\n",
      "destination       25 non-null object\n",
      "request_agent     13978 non-null object\n",
      "dtypes: int64(2), object(5)\n",
      "memory usage: 873.6+ KB\n"
     ]
    }
   ],
   "source": [
    "df.info()"
   ]
  },
  {
   "cell_type": "markdown",
   "metadata": {},
   "source": [
    "## Takeaways from ^^:\n",
    "\n",
    "1.) timestamp - remove square brackets, replace the first colon (after dd/MM/yyyy) with a space so that we can then convert to datetime dtype, convert to datetime, and set is as index."
   ]
  },
  {
   "cell_type": "code",
   "execution_count": 8,
   "metadata": {},
   "outputs": [],
   "source": [
    "df.timestamp = df.timestamp.str.replace(r'(\\[|\\])', '', regex=True)\n",
    "df.timestamp= pd.to_datetime(df.timestamp.str.replace(':', ' ', 1)) \n",
    "df = df.set_index('timestamp')"
   ]
  },
  {
   "cell_type": "code",
   "execution_count": 9,
   "metadata": {},
   "outputs": [
    {
     "data": {
      "text/html": [
       "<div>\n",
       "<style scoped>\n",
       "    .dataframe tbody tr th:only-of-type {\n",
       "        vertical-align: middle;\n",
       "    }\n",
       "\n",
       "    .dataframe tbody tr th {\n",
       "        vertical-align: top;\n",
       "    }\n",
       "\n",
       "    .dataframe thead th {\n",
       "        text-align: right;\n",
       "    }\n",
       "</style>\n",
       "<table border=\"1\" class=\"dataframe\">\n",
       "  <thead>\n",
       "    <tr style=\"text-align: right;\">\n",
       "      <th></th>\n",
       "      <th>ip</th>\n",
       "      <th>request_method</th>\n",
       "      <th>status</th>\n",
       "      <th>size</th>\n",
       "      <th>destination</th>\n",
       "      <th>request_agent</th>\n",
       "    </tr>\n",
       "    <tr>\n",
       "      <th>timestamp</th>\n",
       "      <th></th>\n",
       "      <th></th>\n",
       "      <th></th>\n",
       "      <th></th>\n",
       "      <th></th>\n",
       "      <th></th>\n",
       "    </tr>\n",
       "  </thead>\n",
       "  <tbody>\n",
       "    <tr>\n",
       "      <th>2019-04-16 19:34:42+00:00</th>\n",
       "      <td>97.105.19.58</td>\n",
       "      <td>\"GET /api/v1/sales?page=81 HTTP/1.1\"</td>\n",
       "      <td>200</td>\n",
       "      <td>512495</td>\n",
       "      <td>NaN</td>\n",
       "      <td>\"python-requests/2.21.0\"</td>\n",
       "    </tr>\n",
       "    <tr>\n",
       "      <th>2019-04-16 19:34:42+00:00</th>\n",
       "      <td>97.105.19.58</td>\n",
       "      <td>\"GET /api/v1/items HTTP/1.1\"</td>\n",
       "      <td>200</td>\n",
       "      <td>3561</td>\n",
       "      <td>NaN</td>\n",
       "      <td>\"python-requests/2.21.0\"</td>\n",
       "    </tr>\n",
       "    <tr>\n",
       "      <th>2019-04-16 19:34:44+00:00</th>\n",
       "      <td>97.105.19.58</td>\n",
       "      <td>\"GET /api/v1/sales?page=82 HTTP/1.1\"</td>\n",
       "      <td>200</td>\n",
       "      <td>510103</td>\n",
       "      <td>NaN</td>\n",
       "      <td>\"python-requests/2.21.0\"</td>\n",
       "    </tr>\n",
       "    <tr>\n",
       "      <th>2019-04-16 19:34:46+00:00</th>\n",
       "      <td>97.105.19.58</td>\n",
       "      <td>\"GET /api/v1/sales?page=83 HTTP/1.1\"</td>\n",
       "      <td>200</td>\n",
       "      <td>510003</td>\n",
       "      <td>NaN</td>\n",
       "      <td>\"python-requests/2.21.0\"</td>\n",
       "    </tr>\n",
       "    <tr>\n",
       "      <th>2019-04-16 19:34:48+00:00</th>\n",
       "      <td>97.105.19.58</td>\n",
       "      <td>\"GET /api/v1/sales?page=84 HTTP/1.1\"</td>\n",
       "      <td>200</td>\n",
       "      <td>511963</td>\n",
       "      <td>NaN</td>\n",
       "      <td>\"python-requests/2.21.0\"</td>\n",
       "    </tr>\n",
       "  </tbody>\n",
       "</table>\n",
       "</div>"
      ],
      "text/plain": [
       "                                     ip                        request_method  \\\n",
       "timestamp                                                                       \n",
       "2019-04-16 19:34:42+00:00  97.105.19.58  \"GET /api/v1/sales?page=81 HTTP/1.1\"   \n",
       "2019-04-16 19:34:42+00:00  97.105.19.58          \"GET /api/v1/items HTTP/1.1\"   \n",
       "2019-04-16 19:34:44+00:00  97.105.19.58  \"GET /api/v1/sales?page=82 HTTP/1.1\"   \n",
       "2019-04-16 19:34:46+00:00  97.105.19.58  \"GET /api/v1/sales?page=83 HTTP/1.1\"   \n",
       "2019-04-16 19:34:48+00:00  97.105.19.58  \"GET /api/v1/sales?page=84 HTTP/1.1\"   \n",
       "\n",
       "                           status    size destination  \\\n",
       "timestamp                                               \n",
       "2019-04-16 19:34:42+00:00     200  512495         NaN   \n",
       "2019-04-16 19:34:42+00:00     200    3561         NaN   \n",
       "2019-04-16 19:34:44+00:00     200  510103         NaN   \n",
       "2019-04-16 19:34:46+00:00     200  510003         NaN   \n",
       "2019-04-16 19:34:48+00:00     200  511963         NaN   \n",
       "\n",
       "                                      request_agent  \n",
       "timestamp                                            \n",
       "2019-04-16 19:34:42+00:00  \"python-requests/2.21.0\"  \n",
       "2019-04-16 19:34:42+00:00  \"python-requests/2.21.0\"  \n",
       "2019-04-16 19:34:44+00:00  \"python-requests/2.21.0\"  \n",
       "2019-04-16 19:34:46+00:00  \"python-requests/2.21.0\"  \n",
       "2019-04-16 19:34:48+00:00  \"python-requests/2.21.0\"  "
      ]
     },
     "execution_count": 9,
     "metadata": {},
     "output_type": "execute_result"
    }
   ],
   "source": [
    "df.head()"
   ]
  },
  {
   "cell_type": "markdown",
   "metadata": {},
   "source": [
    "### Cleanup Strings\n",
    "\n",
    "- Remove quotation marks and '?page=x' from request_method.\n",
    "\n",
    "- Remove quotation marks from request_agent."
   ]
  },
  {
   "cell_type": "code",
   "execution_count": 10,
   "metadata": {},
   "outputs": [
    {
     "data": {
      "text/plain": [
       "\"https://python.zach.lol/\"                                        4\n",
       "\"https://ds.codeup.com/8.3_Acquire/\"                              3\n",
       "\"https://python.zach.lol/api/v1/\"                                 2\n",
       "\"https://python.zach.lol/api/v1/stores?page=1\"                    2\n",
       "\"https://python.zach.lol/api/v1/I_DIDNT_DO_IT!!!!\"                1\n",
       "\"https://python.zach.lol/api/v1/stores?page=999\"                  1\n",
       "\"https://python.zach.lol/api/V1/HiZach!\"                          1\n",
       "\"https://python.zach.lol/api/v1//api/v1/items/next_page\"          1\n",
       "\"https://python.zach.lol/api/v1/items\"                            1\n",
       "\"https://python.zach.lol/api/v1/stores?page=0\"                    1\n",
       "\"https://python.zach.lol/api/v1/helloclass!\"                      1\n",
       "\"https://python.zach.lol/api/v1//api/v1/items?page=2\"             1\n",
       "\"https://python.zach.lol/api/v1/items?page=0\"                     1\n",
       "\"http://localhost:8889/notebooks/timeseries_acquisition.ipynb\"    1\n",
       "\"https://python.zach.lol/api/v1//api/v1/items\"                    1\n",
       "\"http://localhost:8888/notebooks/acquire.ipynb\"                   1\n",
       "\"https://python.zach.lol/api/v1/stores?page=2\"                    1\n",
       "\"https://python.zach.lol/api/v1/sales?page=3\"                     1\n",
       "Name: destination, dtype: int64"
      ]
     },
     "execution_count": 10,
     "metadata": {},
     "output_type": "execute_result"
    }
   ],
   "source": [
    "df.destination.value_counts()"
   ]
  },
  {
   "cell_type": "code",
   "execution_count": 11,
   "metadata": {},
   "outputs": [],
   "source": [
    "for col in ['request_method', 'request_agent', 'destination']:\n",
    "    df[col] = df[col].str.replace('\"', '')"
   ]
  },
  {
   "cell_type": "code",
   "execution_count": 12,
   "metadata": {},
   "outputs": [
    {
     "data": {
      "text/plain": [
       "220"
      ]
     },
     "execution_count": 12,
     "metadata": {},
     "output_type": "execute_result"
    }
   ],
   "source": [
    "len(df.request_method.value_counts())"
   ]
  },
  {
   "cell_type": "code",
   "execution_count": 13,
   "metadata": {},
   "outputs": [
    {
     "data": {
      "text/plain": [
       "GET /api/v1/sales?page=2 HTTP/1.1       709\n",
       "GET /api/v1/items HTTP/1.1              464\n",
       "GET /api/v1/items?page=2 HTTP/1.1       291\n",
       "GET /api/v1/items?page=3 HTTP/1.1       219\n",
       "GET /api/v1/stores HTTP/1.1             162\n",
       "                                       ... \n",
       "GET /api/v1/helloclass! HTTP/1.1          1\n",
       "GET /api/v1/items&page=0 HTTP/1.1         1\n",
       "GET /api/v1/items?page=4 HTTP/1.1         1\n",
       "GET /api/v1/stores?page=999 HTTP/1.1      1\n",
       "GET /api/v1/stores?page=666 HTTP/1.1      1\n",
       "Name: request_method, Length: 220, dtype: int64"
      ]
     },
     "execution_count": 13,
     "metadata": {},
     "output_type": "execute_result"
    }
   ],
   "source": [
    "df.request_method.value_counts()"
   ]
  },
  {
   "cell_type": "code",
   "execution_count": 14,
   "metadata": {},
   "outputs": [],
   "source": [
    "df['request_method'] = df.request_method.str.replace(r'\\?page=[0-9]+', '', regex = True)"
   ]
  },
  {
   "cell_type": "code",
   "execution_count": 15,
   "metadata": {},
   "outputs": [
    {
     "data": {
      "text/plain": [
       "22"
      ]
     },
     "execution_count": 15,
     "metadata": {},
     "output_type": "execute_result"
    }
   ],
   "source": [
    "len(df.request_method.value_counts())"
   ]
  },
  {
   "cell_type": "code",
   "execution_count": 16,
   "metadata": {},
   "outputs": [
    {
     "data": {
      "text/plain": [
       "GET /api/v1/sales HTTP/1.1                      12403\n",
       "GET /api/v1/items HTTP/1.1                       1065\n",
       "GET /api/v1/stores HTTP/1.1                       229\n",
       "GET / HTTP/1.1                                    107\n",
       "GET /documentation HTTP/1.1                       100\n",
       "GET /favicon.ico HTTP/1.1                          26\n",
       "GET /api/v1//api/v1/items HTTP/1.1                 11\n",
       "GET /api/v1/items/api/v1/items HTTP/1.1             7\n",
       "GET /api/v1/items/next_page HTTP/1.1                5\n",
       "GET /api/v1/ HTTP/1.1                               4\n",
       "GET /api/v1/store HTTP/1.1                          3\n",
       "GET /api/v1/itemsitems HTTP/1.1                     3\n",
       "GET /api/v1/sales/HTTP/1.1                          3\n",
       "GET /api/v1/sales/ HTTP/1.1                         3\n",
       "GET /api/v1items HTTP/1.1                           2\n",
       "GET /api/v1/helloclass! HTTP/1.1                    1\n",
       "GET /api/v1//api/v1/items/next_page HTTP/1.1        1\n",
       "GET /api/v1 HTTP/1.1                                1\n",
       "GET /api/v1/items&page=0 HTTP/1.1                   1\n",
       "GET /api/v1/items/HTTP/1.1                          1\n",
       "GET /api/v1/I_DIDNT_DO_IT!!!! HTTP/1.1              1\n",
       "GET /api/V1/HiZach! HTTP/1.1                        1\n",
       "Name: request_method, dtype: int64"
      ]
     },
     "execution_count": 16,
     "metadata": {},
     "output_type": "execute_result"
    }
   ],
   "source": [
    "df.request_method.value_counts()"
   ]
  },
  {
   "cell_type": "code",
   "execution_count": 17,
   "metadata": {},
   "outputs": [],
   "source": [
    "df[['request_call','api_version','endpoints','http']] = \\\n",
    "    df.request_method.str.extract(r'(?P<request_call>^[A-Z]+)\\s(?P<api_version>\\/api\\/v[0-9])(?P<endpoints>.+)(?P<http_version>HTTP\\/[0-9]\\.[0-9])', expand = True)"
   ]
  },
  {
   "cell_type": "code",
   "execution_count": 18,
   "metadata": {},
   "outputs": [
    {
     "data": {
      "text/html": [
       "<div>\n",
       "<style scoped>\n",
       "    .dataframe tbody tr th:only-of-type {\n",
       "        vertical-align: middle;\n",
       "    }\n",
       "\n",
       "    .dataframe tbody tr th {\n",
       "        vertical-align: top;\n",
       "    }\n",
       "\n",
       "    .dataframe thead th {\n",
       "        text-align: right;\n",
       "    }\n",
       "</style>\n",
       "<table border=\"1\" class=\"dataframe\">\n",
       "  <thead>\n",
       "    <tr style=\"text-align: right;\">\n",
       "      <th></th>\n",
       "      <th>ip</th>\n",
       "      <th>request_method</th>\n",
       "      <th>status</th>\n",
       "      <th>size</th>\n",
       "      <th>destination</th>\n",
       "      <th>request_agent</th>\n",
       "      <th>request_call</th>\n",
       "      <th>api_version</th>\n",
       "      <th>endpoints</th>\n",
       "      <th>http</th>\n",
       "    </tr>\n",
       "    <tr>\n",
       "      <th>timestamp</th>\n",
       "      <th></th>\n",
       "      <th></th>\n",
       "      <th></th>\n",
       "      <th></th>\n",
       "      <th></th>\n",
       "      <th></th>\n",
       "      <th></th>\n",
       "      <th></th>\n",
       "      <th></th>\n",
       "      <th></th>\n",
       "    </tr>\n",
       "  </thead>\n",
       "  <tbody>\n",
       "    <tr>\n",
       "      <th>2019-04-16 19:34:42+00:00</th>\n",
       "      <td>97.105.19.58</td>\n",
       "      <td>GET /api/v1/sales HTTP/1.1</td>\n",
       "      <td>200</td>\n",
       "      <td>512495</td>\n",
       "      <td>NaN</td>\n",
       "      <td>python-requests/2.21.0</td>\n",
       "      <td>GET</td>\n",
       "      <td>/api/v1</td>\n",
       "      <td>/sales</td>\n",
       "      <td>HTTP/1.1</td>\n",
       "    </tr>\n",
       "    <tr>\n",
       "      <th>2019-04-16 19:34:42+00:00</th>\n",
       "      <td>97.105.19.58</td>\n",
       "      <td>GET /api/v1/items HTTP/1.1</td>\n",
       "      <td>200</td>\n",
       "      <td>3561</td>\n",
       "      <td>NaN</td>\n",
       "      <td>python-requests/2.21.0</td>\n",
       "      <td>GET</td>\n",
       "      <td>/api/v1</td>\n",
       "      <td>/items</td>\n",
       "      <td>HTTP/1.1</td>\n",
       "    </tr>\n",
       "    <tr>\n",
       "      <th>2019-04-16 19:34:44+00:00</th>\n",
       "      <td>97.105.19.58</td>\n",
       "      <td>GET /api/v1/sales HTTP/1.1</td>\n",
       "      <td>200</td>\n",
       "      <td>510103</td>\n",
       "      <td>NaN</td>\n",
       "      <td>python-requests/2.21.0</td>\n",
       "      <td>GET</td>\n",
       "      <td>/api/v1</td>\n",
       "      <td>/sales</td>\n",
       "      <td>HTTP/1.1</td>\n",
       "    </tr>\n",
       "    <tr>\n",
       "      <th>2019-04-16 19:34:46+00:00</th>\n",
       "      <td>97.105.19.58</td>\n",
       "      <td>GET /api/v1/sales HTTP/1.1</td>\n",
       "      <td>200</td>\n",
       "      <td>510003</td>\n",
       "      <td>NaN</td>\n",
       "      <td>python-requests/2.21.0</td>\n",
       "      <td>GET</td>\n",
       "      <td>/api/v1</td>\n",
       "      <td>/sales</td>\n",
       "      <td>HTTP/1.1</td>\n",
       "    </tr>\n",
       "    <tr>\n",
       "      <th>2019-04-16 19:34:48+00:00</th>\n",
       "      <td>97.105.19.58</td>\n",
       "      <td>GET /api/v1/sales HTTP/1.1</td>\n",
       "      <td>200</td>\n",
       "      <td>511963</td>\n",
       "      <td>NaN</td>\n",
       "      <td>python-requests/2.21.0</td>\n",
       "      <td>GET</td>\n",
       "      <td>/api/v1</td>\n",
       "      <td>/sales</td>\n",
       "      <td>HTTP/1.1</td>\n",
       "    </tr>\n",
       "  </tbody>\n",
       "</table>\n",
       "</div>"
      ],
      "text/plain": [
       "                                     ip              request_method  status  \\\n",
       "timestamp                                                                     \n",
       "2019-04-16 19:34:42+00:00  97.105.19.58  GET /api/v1/sales HTTP/1.1     200   \n",
       "2019-04-16 19:34:42+00:00  97.105.19.58  GET /api/v1/items HTTP/1.1     200   \n",
       "2019-04-16 19:34:44+00:00  97.105.19.58  GET /api/v1/sales HTTP/1.1     200   \n",
       "2019-04-16 19:34:46+00:00  97.105.19.58  GET /api/v1/sales HTTP/1.1     200   \n",
       "2019-04-16 19:34:48+00:00  97.105.19.58  GET /api/v1/sales HTTP/1.1     200   \n",
       "\n",
       "                             size destination           request_agent  \\\n",
       "timestamp                                                               \n",
       "2019-04-16 19:34:42+00:00  512495         NaN  python-requests/2.21.0   \n",
       "2019-04-16 19:34:42+00:00    3561         NaN  python-requests/2.21.0   \n",
       "2019-04-16 19:34:44+00:00  510103         NaN  python-requests/2.21.0   \n",
       "2019-04-16 19:34:46+00:00  510003         NaN  python-requests/2.21.0   \n",
       "2019-04-16 19:34:48+00:00  511963         NaN  python-requests/2.21.0   \n",
       "\n",
       "                          request_call api_version endpoints      http  \n",
       "timestamp                                                               \n",
       "2019-04-16 19:34:42+00:00          GET     /api/v1   /sales   HTTP/1.1  \n",
       "2019-04-16 19:34:42+00:00          GET     /api/v1   /items   HTTP/1.1  \n",
       "2019-04-16 19:34:44+00:00          GET     /api/v1   /sales   HTTP/1.1  \n",
       "2019-04-16 19:34:46+00:00          GET     /api/v1   /sales   HTTP/1.1  \n",
       "2019-04-16 19:34:48+00:00          GET     /api/v1   /sales   HTTP/1.1  "
      ]
     },
     "execution_count": 18,
     "metadata": {},
     "output_type": "execute_result"
    }
   ],
   "source": [
    "df.head()"
   ]
  },
  {
   "cell_type": "code",
   "execution_count": 19,
   "metadata": {},
   "outputs": [
    {
     "name": "stdout",
     "output_type": "stream",
     "text": [
      "/sales                       12403\n",
      "/items                        1065\n",
      "/stores                        229\n",
      "//api/v1/items                  11\n",
      "/items/api/v1/items              7\n",
      "/items/next_page                 5\n",
      "/                                4\n",
      "/itemsitems                      3\n",
      "/sales/                          3\n",
      "/sales/                          3\n",
      "/store                           3\n",
      "items                            2\n",
      "//api/v1/items/next_page         1\n",
      "/items/                          1\n",
      "/items&page=0                    1\n",
      "/helloclass!                     1\n",
      "                                 1\n",
      "/I_DIDNT_DO_IT!!!!               1\n",
      "Name: endpoints, dtype: int64\n"
     ]
    }
   ],
   "source": [
    "# replace '/HTTP' with ', HTTP'\n",
    "\n",
    "print(df.endpoints.value_counts())"
   ]
  },
  {
   "cell_type": "code",
   "execution_count": 20,
   "metadata": {},
   "outputs": [],
   "source": [
    "def compute_entropy(series):\n",
    "    counts = series.value_counts()\n",
    "    if len(counts)==1:\n",
    "        ent = 0\n",
    "    else:\n",
    "        value, counts = np.unique(series, return_counts=True)\n",
    "        ent = entropy(counts, base=None)\n",
    "    return ent"
   ]
  },
  {
   "cell_type": "code",
   "execution_count": 21,
   "metadata": {},
   "outputs": [
    {
     "data": {
      "text/plain": [
       "0"
      ]
     },
     "execution_count": 21,
     "metadata": {},
     "output_type": "execute_result"
    }
   ],
   "source": [
    "compute_entropy(df.api_version)"
   ]
  },
  {
   "cell_type": "code",
   "execution_count": 22,
   "metadata": {},
   "outputs": [
    {
     "data": {
      "text/plain": [
       "0.0103058384931202"
      ]
     },
     "execution_count": 22,
     "metadata": {},
     "output_type": "execute_result"
    }
   ],
   "source": [
    "compute_entropy(df.status)"
   ]
  },
  {
   "cell_type": "code",
   "execution_count": 23,
   "metadata": {},
   "outputs": [
    {
     "data": {
      "text/plain": [
       "0"
      ]
     },
     "execution_count": 23,
     "metadata": {},
     "output_type": "execute_result"
    }
   ],
   "source": [
    "compute_entropy(df.request_call)"
   ]
  },
  {
   "cell_type": "code",
   "execution_count": 24,
   "metadata": {},
   "outputs": [
    {
     "data": {
      "text/plain": [
       "0.5669620287409953"
      ]
     },
     "execution_count": 24,
     "metadata": {},
     "output_type": "execute_result"
    }
   ],
   "source": [
    "compute_entropy(df.ip)"
   ]
  },
  {
   "cell_type": "code",
   "execution_count": 25,
   "metadata": {},
   "outputs": [],
   "source": [
    "## Change sizes to MB (or GB) for easier understanding:\n",
    "\n",
    "\n",
    "df['size_mb'] = [n/1024/1024 for n in df['size']]"
   ]
  },
  {
   "cell_type": "code",
   "execution_count": 26,
   "metadata": {},
   "outputs": [
    {
     "data": {
      "text/html": [
       "<div>\n",
       "<style scoped>\n",
       "    .dataframe tbody tr th:only-of-type {\n",
       "        vertical-align: middle;\n",
       "    }\n",
       "\n",
       "    .dataframe tbody tr th {\n",
       "        vertical-align: top;\n",
       "    }\n",
       "\n",
       "    .dataframe thead th {\n",
       "        text-align: right;\n",
       "    }\n",
       "</style>\n",
       "<table border=\"1\" class=\"dataframe\">\n",
       "  <thead>\n",
       "    <tr style=\"text-align: right;\">\n",
       "      <th></th>\n",
       "      <th>status</th>\n",
       "      <th>size</th>\n",
       "      <th>size_mb</th>\n",
       "    </tr>\n",
       "  </thead>\n",
       "  <tbody>\n",
       "    <tr>\n",
       "      <th>count</th>\n",
       "      <td>13978.000000</td>\n",
       "      <td>1.397800e+04</td>\n",
       "      <td>13978.000000</td>\n",
       "    </tr>\n",
       "    <tr>\n",
       "      <th>mean</th>\n",
       "      <td>200.356703</td>\n",
       "      <td>4.500019e+05</td>\n",
       "      <td>0.429155</td>\n",
       "    </tr>\n",
       "    <tr>\n",
       "      <th>std</th>\n",
       "      <td>10.182001</td>\n",
       "      <td>1.614915e+05</td>\n",
       "      <td>0.154010</td>\n",
       "    </tr>\n",
       "    <tr>\n",
       "      <th>min</th>\n",
       "      <td>200.000000</td>\n",
       "      <td>0.000000e+00</td>\n",
       "      <td>0.000000</td>\n",
       "    </tr>\n",
       "    <tr>\n",
       "      <th>25%</th>\n",
       "      <td>200.000000</td>\n",
       "      <td>5.006370e+05</td>\n",
       "      <td>0.477445</td>\n",
       "    </tr>\n",
       "    <tr>\n",
       "      <th>50%</th>\n",
       "      <td>200.000000</td>\n",
       "      <td>5.101380e+05</td>\n",
       "      <td>0.486506</td>\n",
       "    </tr>\n",
       "    <tr>\n",
       "      <th>75%</th>\n",
       "      <td>200.000000</td>\n",
       "      <td>5.112910e+05</td>\n",
       "      <td>0.487605</td>\n",
       "    </tr>\n",
       "    <tr>\n",
       "      <th>max</th>\n",
       "      <td>499.000000</td>\n",
       "      <td>2.056327e+06</td>\n",
       "      <td>1.961066</td>\n",
       "    </tr>\n",
       "  </tbody>\n",
       "</table>\n",
       "</div>"
      ],
      "text/plain": [
       "             status          size       size_mb\n",
       "count  13978.000000  1.397800e+04  13978.000000\n",
       "mean     200.356703  4.500019e+05      0.429155\n",
       "std       10.182001  1.614915e+05      0.154010\n",
       "min      200.000000  0.000000e+00      0.000000\n",
       "25%      200.000000  5.006370e+05      0.477445\n",
       "50%      200.000000  5.101380e+05      0.486506\n",
       "75%      200.000000  5.112910e+05      0.487605\n",
       "max      499.000000  2.056327e+06      1.961066"
      ]
     },
     "execution_count": 26,
     "metadata": {},
     "output_type": "execute_result"
    }
   ],
   "source": [
    "df.describe()"
   ]
  },
  {
   "cell_type": "markdown",
   "metadata": {},
   "source": [
    "1.) Resample to 30 minute intervals taking max of size.\n",
    "\n",
    "2.) Fill in missing datetimestamps (those not present because no data was captured during that time. We want to have continuous time and those time periods filled with 0)."
   ]
  },
  {
   "cell_type": "code",
   "execution_count": 27,
   "metadata": {},
   "outputs": [],
   "source": [
    "\n",
    "my_datetime_fmt = mdates.DateFormatter('%m-%d %H:%T')\n",
    "\n",
    "df_ts_size = df['size_mb'].resample('30T').max()\n",
    "\n",
    "idx = pd.date_range(\n",
    "    df_ts_size.sort_index().index.min(), \n",
    "    df_ts_size.sort_index().index.max(),\n",
    "    freq='30min'\n",
    ")\n",
    "\n",
    "df = df_ts_size.reindex(idx, fill_value=0).fillna(value=0)"
   ]
  },
  {
   "cell_type": "code",
   "execution_count": 28,
   "metadata": {},
   "outputs": [
    {
     "data": {
      "text/plain": [
       "2019-04-16 19:30:00+00:00    0.489937\n",
       "2019-04-16 20:00:00+00:00    0.489937\n",
       "2019-04-16 20:30:00+00:00    0.489937\n",
       "2019-04-16 21:00:00+00:00    0.489937\n",
       "2019-04-16 21:30:00+00:00    0.489937\n",
       "Freq: 30T, Name: size_mb, dtype: float64"
      ]
     },
     "execution_count": 28,
     "metadata": {},
     "output_type": "execute_result"
    }
   ],
   "source": [
    "df.head()"
   ]
  },
  {
   "cell_type": "markdown",
   "metadata": {},
   "source": [
    "# Simple Moving Average:"
   ]
  },
  {
   "cell_type": "code",
   "execution_count": 29,
   "metadata": {},
   "outputs": [],
   "source": [
    "# Calculating the short-window simple moving average\n",
    "short_rolling = df.rolling(window=12).mean()\n",
    "\n",
    "# Calculating the long-window simple moving average\n",
    "long_rolling = df.rolling(window=24).mean()"
   ]
  },
  {
   "cell_type": "code",
   "execution_count": 30,
   "metadata": {},
   "outputs": [
    {
     "data": {
      "text/plain": [
       "2019-04-16 19:30:00+00:00         NaN\n",
       "2019-04-16 20:00:00+00:00         NaN\n",
       "2019-04-16 20:30:00+00:00         NaN\n",
       "2019-04-16 21:00:00+00:00         NaN\n",
       "2019-04-16 21:30:00+00:00         NaN\n",
       "2019-04-16 22:00:00+00:00         NaN\n",
       "2019-04-16 22:30:00+00:00         NaN\n",
       "2019-04-16 23:00:00+00:00         NaN\n",
       "2019-04-16 23:30:00+00:00         NaN\n",
       "2019-04-17 00:00:00+00:00         NaN\n",
       "2019-04-17 00:30:00+00:00         NaN\n",
       "2019-04-17 01:00:00+00:00    0.286391\n",
       "2019-04-17 01:30:00+00:00    0.286391\n",
       "Freq: 30T, Name: size_mb, dtype: float64"
      ]
     },
     "execution_count": 30,
     "metadata": {},
     "output_type": "execute_result"
    }
   ],
   "source": [
    "short_rolling.head(13)"
   ]
  },
  {
   "cell_type": "code",
   "execution_count": 31,
   "metadata": {},
   "outputs": [
    {
     "data": {
      "text/plain": [
       "2019-04-17 05:30:00+00:00    0.324983\n",
       "2019-04-17 06:00:00+00:00    0.364235\n",
       "2019-04-17 06:30:00+00:00    0.363944\n",
       "2019-04-17 07:00:00+00:00    0.363653\n",
       "2019-04-17 07:30:00+00:00    0.322825\n",
       "2019-04-17 08:00:00+00:00    0.281997\n",
       "2019-04-17 08:30:00+00:00    0.242107\n",
       "2019-04-17 09:00:00+00:00    0.201279\n",
       "2019-04-17 09:30:00+00:00    0.160451\n",
       "2019-04-17 10:00:00+00:00    0.160266\n",
       "Freq: 30T, Name: size_mb, dtype: float64"
      ]
     },
     "execution_count": 31,
     "metadata": {},
     "output_type": "execute_result"
    }
   ],
   "source": [
    "short_rolling[20:30]"
   ]
  },
  {
   "cell_type": "code",
   "execution_count": 32,
   "metadata": {},
   "outputs": [
    {
     "data": {
      "text/plain": [
       "2019-04-17 05:30:00+00:00         NaN\n",
       "2019-04-17 06:00:00+00:00         NaN\n",
       "2019-04-17 06:30:00+00:00         NaN\n",
       "2019-04-17 07:00:00+00:00    0.325022\n",
       "2019-04-17 07:30:00+00:00    0.304608\n",
       "2019-04-17 08:00:00+00:00    0.284194\n",
       "2019-04-17 08:30:00+00:00    0.263780\n",
       "2019-04-17 09:00:00+00:00    0.243366\n",
       "2019-04-17 09:30:00+00:00    0.222952\n",
       "2019-04-17 10:00:00+00:00    0.202591\n",
       "Freq: 30T, Name: size_mb, dtype: float64"
      ]
     },
     "execution_count": 32,
     "metadata": {},
     "output_type": "execute_result"
    }
   ],
   "source": [
    "long_rolling[20:30]"
   ]
  },
  {
   "cell_type": "markdown",
   "metadata": {},
   "source": [
    "### Plot the two window sizes for the SMA:"
   ]
  },
  {
   "cell_type": "code",
   "execution_count": 33,
   "metadata": {},
   "outputs": [
    {
     "data": {
      "text/plain": [
       "Text(0, 0.5, 'Size (MB)')"
      ]
     },
     "execution_count": 33,
     "metadata": {},
     "output_type": "execute_result"
    },
    {
     "data": {
      "image/png": "[encoded data removed]",
      "text/plain": [
       "<Figure size 864x288 with 1 Axes>"
      ]
     },
     "metadata": {
      "needs_background": "light"
     },
     "output_type": "display_data"
    }
   ],
   "source": [
    "fig, ax = plt.subplots(figsize=(12,4))\n",
    "\n",
    "ax.plot(df.index, \n",
    "        df,\n",
    "        label='Size (MB)')\n",
    "\n",
    "ax.plot(short_rolling.index, \n",
    "        short_rolling, \n",
    "        label = '6-Hour SMA')\n",
    "ax.plot(long_rolling.index, \n",
    "        long_rolling, \n",
    "        label = '12-Hour SMA')\n",
    "\n",
    "ax.legend(loc='best')\n",
    "ax.set_ylabel('Size (MB)')\n",
    "# ax.xaxis.(rotate=90)\n",
    "# ax.xaxis.set_major_formatter(my_datetime_fmt)"
   ]
  },
  {
   "cell_type": "markdown",
   "metadata": {},
   "source": [
    "## Exponential Moving Average:\n",
    "\n",
    "SMA time series are much less noisy than the time series of the original data points. The challenge with SMA, however, is that the values of SMA lag the original values. This means that changes in the trend are only seen with a delay (lag) of L time units.\n",
    "\n",
    "Exponential Moving Average (EMA) helps reduce the lag induced by the use of the SMA. It does this by putting more weight on more recent observations, while the SMA weights all observations equally.\n",
    "\n",
    "M = Number of time periods, span of the window\n",
    "$t_{0}$ = Latest value\n",
    "$t-1$ = Previous value\n",
    "$EMA_{t-1}$ = Exponential moving average of previous day.\n",
    "The multiplier: $\\alpha = \\frac{2}{M+1}$\n",
    "\n",
    "$EMA_{t}= \\alpha * (t_{0} - EMA_{t-1}) + EMA_{t-1}$\n",
    "\n",
    "Example:\n",
    "\n",
    "$EMA = (current day - EMA_{previous day}) * multiplier + EMA_{previous day}$\n",
    "Initial SMA: 10-period sum / 10\n",
    "Multiplier: (2 / (Time periods + 1) ) = (2 / (10 + 1) ) = 0.1818 (18.18%)"
   ]
  },
  {
   "cell_type": "code",
   "execution_count": 34,
   "metadata": {},
   "outputs": [
    {
     "data": {
      "text/plain": [
       "2019-04-21 08:00:00+00:00    1.525388e-06\n",
       "2019-04-21 08:30:00+00:00    1.290713e-06\n",
       "2019-04-21 09:00:00+00:00    1.092142e-06\n",
       "2019-04-21 09:30:00+00:00    9.241200e-07\n",
       "2019-04-21 10:00:00+00:00    1.691687e-01\n",
       "Freq: 30T, Name: size_mb, dtype: float64"
      ]
     },
     "execution_count": 34,
     "metadata": {},
     "output_type": "execute_result"
    }
   ],
   "source": [
    "# Using Pandas to calculate a 2 hour span EMA. \n",
    "# adjust=False specifies that we are interested in the \n",
    "# recursive calculation mode.\n",
    "ema_short = df.ewm(span=12, adjust=False).mean()\n",
    "ema_short.tail()"
   ]
  },
  {
   "cell_type": "code",
   "execution_count": 35,
   "metadata": {},
   "outputs": [
    {
     "data": {
      "text/plain": [
       "2019-04-21 08:00:00+00:00    0.000357\n",
       "2019-04-21 08:30:00+00:00    0.000328\n",
       "2019-04-21 09:00:00+00:00    0.000302\n",
       "2019-04-21 09:30:00+00:00    0.000278\n",
       "2019-04-21 10:00:00+00:00    0.088223\n",
       "Freq: 30T, Name: size_mb, dtype: float64"
      ]
     },
     "execution_count": 35,
     "metadata": {},
     "output_type": "execute_result"
    }
   ],
   "source": [
    "span = 24\n",
    "ema_long = df.ewm(span=span, adjust=False).mean()\n",
    "ema_long.tail()"
   ]
  },
  {
   "cell_type": "markdown",
   "metadata": {},
   "source": [
    "### Comparing SMA and EMA:"
   ]
  },
  {
   "cell_type": "code",
   "execution_count": 36,
   "metadata": {},
   "outputs": [
    {
     "data": {
      "text/plain": [
       "Text(0, 0.5, 'Size (MB)')"
      ]
     },
     "execution_count": 36,
     "metadata": {},
     "output_type": "execute_result"
    },
    {
     "data": {
      "image/png": "[encoded data removed]",
      "text/plain": [
       "<Figure size 864x288 with 1 Axes>"
      ]
     },
     "metadata": {
      "needs_background": "light"
     },
     "output_type": "display_data"
    }
   ],
   "source": [
    "fig, ax = plt.subplots(figsize=(12,4))\n",
    "\n",
    "ax.plot(df.index, \n",
    "        df,\n",
    "        label='Size (MB)')\n",
    "\n",
    "ax.plot(short_rolling.index, \n",
    "        short_rolling, \n",
    "        label = '6-Hour SMA')\n",
    "ax.plot(long_rolling.index, \n",
    "        ema_short, \n",
    "        label = 'Span 6-Hour EMA')\n",
    "ax.plot(long_rolling.index, \n",
    "        long_rolling, \n",
    "        label = '12-Hour SMA')\n",
    "ax.plot(long_rolling.index, \n",
    "        ema_long, \n",
    "        label = 'Span 12-Hour EMA')\n",
    "\n",
    "ax.legend(loc='best')\n",
    "ax.set_ylabel('Size (MB)')"
   ]
  },
  {
   "cell_type": "markdown",
   "metadata": {},
   "source": [
    "# Bollinger Bands, or %B:"
   ]
  },
  {
   "cell_type": "code",
   "execution_count": 37,
   "metadata": {},
   "outputs": [
    {
     "data": {
      "text/plain": [
       "[<matplotlib.lines.Line2D at 0x128966d10>]"
      ]
     },
     "execution_count": 37,
     "metadata": {},
     "output_type": "execute_result"
    },
    {
     "data": {
      "image/png": "[encoded data removed]",
      "text/plain": [
       "<Figure size 432x288 with 1 Axes>"
      ]
     },
     "metadata": {
      "needs_background": "light"
     },
     "output_type": "display_data"
    }
   ],
   "source": [
    "plt.plot(df)"
   ]
  },
  {
   "cell_type": "markdown",
   "metadata": {},
   "source": [
    "## Steps to %B:\n",
    "\n",
    "- compute rolling EMA...this will give us one for each timestamp from the first to $t_0$, the one before the target.\n",
    "\n",
    "- compute rolling standard deviation\n",
    "\n",
    "- compute upper band\n",
    "\n",
    "- compute lower band\n",
    "\n",
    "- compute percent b\n",
    "\n",
    "To get the latest value:\n",
    "**df[-1]**"
   ]
  },
  {
   "cell_type": "code",
   "execution_count": 38,
   "metadata": {},
   "outputs": [],
   "source": [
    "# df is a dataframe with datetime as index and measure as the value. \n",
    "\n",
    "span = 24\n",
    "ema = df.ewm(span=span, adjust=False).mean()\n",
    "stdev = df.ewm(span=span, adjust=False).std()\n",
    "\n",
    "# we want the following values to all be associated with the following target date/value, so we will compute them\n",
    "# and then change to index to represent the following time period, essentially shifting each value down one \n",
    "# (or forward in terms of date). Basically, we will be comparing the value of one day to the ema computed through\n",
    "# the previous day (and the ub and lb computed from that ema)...that way we are not using our the value from our \n",
    "# target date in the computation of the EMA we will compare that value to. \n",
    "\n",
    "ema = pd.DataFrame({'ema': ema})\n",
    "stdev = pd.DataFrame({'stdev': stdev})\n",
    "previous_val = pd.DataFrame({'previous_val': df})\n",
    "\n",
    "prev_day_df = stdev.join(ema, how='left')\n",
    "prev_day_df = prev_day_df.join(previous_val, how='left')\n",
    "\n",
    "prev_day_df.fillna(0, inplace = True)\n",
    "\n",
    "my_index = df.index[1:]\n",
    "prev_day_df = prev_day_df[:-1].reset_index().set_index(my_index).drop(columns = ['index'])\n",
    "\n",
    "target_val = pd.DataFrame({'target_val': df})\n",
    "\n",
    "df = target_val.join(prev_day_df, how='left')\n",
    "df.fillna(0, inplace = True)\n",
    "\n",
    "# compute the upper and lower band\n",
    "df['ub'] = df['ema'] + 3*df['stdev']\n",
    "df['lb'] = df['ema'] - 3*df['stdev']\n",
    "\n",
    "# compute percent b\n",
    "df['pct_b'] = (df['target_val'] - df['lb']) / (df['ub'] - df['lb'])"
   ]
  },
  {
   "cell_type": "code",
   "execution_count": 41,
   "metadata": {},
   "outputs": [
    {
     "name": "stdout",
     "output_type": "stream",
     "text": [
      "2019-04-16 19:30:00+00:00         inf\n",
      "2019-04-16 20:00:00+00:00         NaN\n",
      "2019-04-16 20:30:00+00:00         NaN\n",
      "2019-04-16 21:00:00+00:00         NaN\n",
      "2019-04-16 21:30:00+00:00         NaN\n",
      "                               ...   \n",
      "2019-04-21 08:00:00+00:00    0.497706\n",
      "2019-04-21 08:30:00+00:00    0.497800\n",
      "2019-04-21 09:00:00+00:00    0.497889\n",
      "2019-04-21 09:30:00+00:00    0.497976\n",
      "2019-04-21 10:00:00+00:00    8.187385\n",
      "Freq: 30T, Name: pct_b, Length: 222, dtype: float64\n"
     ]
    }
   ],
   "source": [
    "print(df[\"pct_b\"])"
   ]
  },
  {
   "cell_type": "code",
   "execution_count": 42,
   "metadata": {},
   "outputs": [
    {
     "data": {
      "image/png": "[encoded data removed]",
      "text/plain": [
       "<Figure size 864x288 with 1 Axes>"
      ]
     },
     "metadata": {
      "needs_background": "light"
     },
     "output_type": "display_data"
    },
    {
     "data": {
      "image/png": "[encoded data removed]",
      "text/plain": [
       "<Figure size 432x288 with 1 Axes>"
      ]
     },
     "metadata": {
      "needs_background": "light"
     },
     "output_type": "display_data"
    }
   ],
   "source": [
    "# plot\n",
    "plt.figure(figsize=(12,4))\n",
    "plt.plot(df.pct_b)\n",
    "plt.show()\n",
    "plt.plot(df.target_val)\n",
    "plt.show()"
   ]
  },
  {
   "cell_type": "code",
   "execution_count": null,
   "metadata": {},
   "outputs": [],
   "source": []
  }
 ],
 "metadata": {
  "kernelspec": {
   "display_name": "Python 3",
   "language": "python",
   "name": "python3"
  },
  "language_info": {
   "codemirror_mode": {
    "name": "ipython",
    "version": 3
   },
   "file_extension": ".py",
   "mimetype": "text/x-python",
   "name": "python",
   "nbconvert_exporter": "python",
   "pygments_lexer": "ipython3",
   "version": "3.7.4"
  }
 },
 "nbformat": 4,
 "nbformat_minor": 2
}
